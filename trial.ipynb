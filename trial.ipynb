{
 "cells": [
  {
   "cell_type": "code",
   "execution_count": 142,
   "metadata": {},
   "outputs": [],
   "source": [
    "import os\n",
    "import pandas as pd\n",
    "from sklearn.linear_model import LassoCV, LinearRegression\n",
    "import numpy as np\n",
    "from numpy.random import poisson\n",
    "import matplotlib.pyplot as plt"
   ]
  },
  {
   "cell_type": "code",
   "execution_count": 2,
   "metadata": {},
   "outputs": [],
   "source": [
    "# PATH = r\"C:\\Users\\Tong Chen Rong\\Desktop\\cleague\\data\\Fifa 23 Players Data.csv\"\n",
    "PATH = os.getcwd()+'/data/Fifa 23 Players Data.csv'"
   ]
  },
  {
   "cell_type": "code",
   "execution_count": 3,
   "metadata": {},
   "outputs": [],
   "source": [
    "df = pd.read_csv(PATH)"
   ]
  },
  {
   "cell_type": "code",
   "execution_count": 4,
   "metadata": {},
   "outputs": [
    {
     "data": {
      "text/plain": "             Known As                          Full Name  Overall  Potential  \\\n0            L. Messi                       Lionel Messi       91         91   \n1          K. Benzema                      Karim Benzema       91         91   \n2      R. Lewandowski                 Robert Lewandowski       91         91   \n3        K. De Bruyne                    Kevin De Bruyne       91         91   \n4           K. Mbappé                      Kylian Mbappé       91         95   \n5            M. Salah                      Mohamed Salah       90         90   \n6         T. Courtois                   Thibaut Courtois       90         91   \n7            M. Neuer                       Manuel Neuer       90         90   \n8   Cristiano Ronaldo       C. Ronaldo dos Santos Aveiro       90         90   \n9         V. van Dijk                    Virgil van Dijk       90         90   \n10            H. Kane                         Harry Kane       89         89   \n11          Neymar Jr         Neymar da Silva Santos Jr.       89         89   \n12             H. Son                      Heung Min Son       89         89   \n13           Casemiro  Carlos Henrique Venancio Casimiro       89         89   \n14           J. Oblak                          Jan Oblak       89         91   \n15            S. Mané                         Sadio Mané       89         89   \n16            Ederson          Ederson Santana de Moraes       89         91   \n17         J. Kimmich                     Joshua Kimmich       89         90   \n18            Alisson              Alisson Ramses Becker       89         90   \n19           N. Kanté                       N'Golo Kanté       89         89   \n\n    Value(in Euro) Positions Played Best Position     Nationality  \\\n0         54000000               RW           CAM       Argentina   \n1         64000000            CF,ST            CF          France   \n2         84000000               ST            ST          Poland   \n3        107500000           CM,CAM            CM         Belgium   \n4        190500000            ST,LW            ST          France   \n5        115500000               RW            RW           Egypt   \n6         90000000               GK            GK         Belgium   \n7         13500000               GK            GK         Germany   \n8         41000000               ST            ST        Portugal   \n9         98000000               CB            CB     Netherlands   \n10       105500000               ST            ST         England   \n11        99500000               LW            LW          Brazil   \n12       101000000            LW,LM            LW  Korea Republic   \n13        86000000              CDM           CDM          Brazil   \n14        85500000               GK            GK        Slovenia   \n15        99500000            LM,CF            LM         Senegal   \n16        88000000               GK            GK          Brazil   \n17       105500000           CDM,RB           CDM         Germany   \n18        79000000               GK            GK          Brazil   \n19        72000000           CDM,CM           CDM          France   \n\n                                          Image Link  Age  ...  LM Rating  \\\n0   https://cdn.sofifa.net/players/158/023/23_60.png   35  ...         91   \n1   https://cdn.sofifa.net/players/165/153/23_60.png   34  ...         89   \n2   https://cdn.sofifa.net/players/188/545/23_60.png   33  ...         86   \n3   https://cdn.sofifa.net/players/192/985/23_60.png   31  ...         91   \n4   https://cdn.sofifa.net/players/231/747/23_60.png   23  ...         92   \n5   https://cdn.sofifa.net/players/209/331/23_60.png   30  ...         90   \n6   https://cdn.sofifa.net/players/192/119/23_60.png   30  ...         34   \n7   https://cdn.sofifa.net/players/167/495/23_60.png   36  ...         47   \n8   https://cdn.sofifa.net/players/020/801/23_60.png   37  ...         87   \n9   https://cdn.sofifa.net/players/203/376/23_60.png   30  ...         73   \n10  https://cdn.sofifa.net/players/202/126/23_60.png   28  ...         86   \n11  https://cdn.sofifa.net/players/190/871/23_60.png   30  ...         89   \n12  https://cdn.sofifa.net/players/200/104/23_60.png   29  ...         89   \n13  https://cdn.sofifa.net/players/200/145/23_60.png   30  ...         76   \n14  https://cdn.sofifa.net/players/200/389/23_60.png   29  ...         37   \n15  https://cdn.sofifa.net/players/208/722/23_60.png   30  ...         89   \n16  https://cdn.sofifa.net/players/210/257/23_60.png   28  ...         47   \n17  https://cdn.sofifa.net/players/212/622/23_60.png   27  ...         86   \n18  https://cdn.sofifa.net/players/212/831/23_60.png   29  ...         45   \n19  https://cdn.sofifa.net/players/215/914/23_60.png   31  ...         81   \n\n    CM Rating  RM Rating  LWB Rating CDM Rating  RWB Rating  LB Rating  \\\n0          88         91          67         66          67         62   \n1          84         89          67         67          67         63   \n2          83         86          67         69          67         64   \n3          91         91          82         82          82         78   \n4          84         92          70         66          70         66   \n5          85         90          74         71          74         70   \n6          35         34          32         34          32         32   \n7          53         47          39         46          39         38   \n8          81         87          65         62          65         61   \n9          79         73          83         88          83         85   \n10         84         86          69         71          69         66   \n11         85         89          69         66          69         64   \n12         83         89          71         67          71         67   \n13         84         76          83         89          83         84   \n14         41         37          35         40          35         35   \n15         82         89          71         68          71         68   \n16         52         47          40         47          40         39   \n17         89         86          87         89          87         86   \n18         49         45          36         42          36         35   \n19         84         81          87         89          87         87   \n\n   CB Rating RB Rating GK Rating  \n0         53        62        22  \n1         58        63        21  \n2         63        64        22  \n3         72        78        24  \n4         57        66        21  \n5         61        70        25  \n6         32        32        90  \n7         37        38        90  \n8         56        61        23  \n9         90        85        23  \n10        64        66        23  \n11        53        64        23  \n12        57        67        22  \n13        89        84        24  \n14        36        35        90  \n15        62        68        22  \n16        38        39        90  \n17        84        86        24  \n18        35        35        90  \n19        87        87        23  \n\n[20 rows x 89 columns]",
      "text/html": "<div>\n<style scoped>\n    .dataframe tbody tr th:only-of-type {\n        vertical-align: middle;\n    }\n\n    .dataframe tbody tr th {\n        vertical-align: top;\n    }\n\n    .dataframe thead th {\n        text-align: right;\n    }\n</style>\n<table border=\"1\" class=\"dataframe\">\n  <thead>\n    <tr style=\"text-align: right;\">\n      <th></th>\n      <th>Known As</th>\n      <th>Full Name</th>\n      <th>Overall</th>\n      <th>Potential</th>\n      <th>Value(in Euro)</th>\n      <th>Positions Played</th>\n      <th>Best Position</th>\n      <th>Nationality</th>\n      <th>Image Link</th>\n      <th>Age</th>\n      <th>...</th>\n      <th>LM Rating</th>\n      <th>CM Rating</th>\n      <th>RM Rating</th>\n      <th>LWB Rating</th>\n      <th>CDM Rating</th>\n      <th>RWB Rating</th>\n      <th>LB Rating</th>\n      <th>CB Rating</th>\n      <th>RB Rating</th>\n      <th>GK Rating</th>\n    </tr>\n  </thead>\n  <tbody>\n    <tr>\n      <th>0</th>\n      <td>L. Messi</td>\n      <td>Lionel Messi</td>\n      <td>91</td>\n      <td>91</td>\n      <td>54000000</td>\n      <td>RW</td>\n      <td>CAM</td>\n      <td>Argentina</td>\n      <td>https://cdn.sofifa.net/players/158/023/23_60.png</td>\n      <td>35</td>\n      <td>...</td>\n      <td>91</td>\n      <td>88</td>\n      <td>91</td>\n      <td>67</td>\n      <td>66</td>\n      <td>67</td>\n      <td>62</td>\n      <td>53</td>\n      <td>62</td>\n      <td>22</td>\n    </tr>\n    <tr>\n      <th>1</th>\n      <td>K. Benzema</td>\n      <td>Karim Benzema</td>\n      <td>91</td>\n      <td>91</td>\n      <td>64000000</td>\n      <td>CF,ST</td>\n      <td>CF</td>\n      <td>France</td>\n      <td>https://cdn.sofifa.net/players/165/153/23_60.png</td>\n      <td>34</td>\n      <td>...</td>\n      <td>89</td>\n      <td>84</td>\n      <td>89</td>\n      <td>67</td>\n      <td>67</td>\n      <td>67</td>\n      <td>63</td>\n      <td>58</td>\n      <td>63</td>\n      <td>21</td>\n    </tr>\n    <tr>\n      <th>2</th>\n      <td>R. Lewandowski</td>\n      <td>Robert Lewandowski</td>\n      <td>91</td>\n      <td>91</td>\n      <td>84000000</td>\n      <td>ST</td>\n      <td>ST</td>\n      <td>Poland</td>\n      <td>https://cdn.sofifa.net/players/188/545/23_60.png</td>\n      <td>33</td>\n      <td>...</td>\n      <td>86</td>\n      <td>83</td>\n      <td>86</td>\n      <td>67</td>\n      <td>69</td>\n      <td>67</td>\n      <td>64</td>\n      <td>63</td>\n      <td>64</td>\n      <td>22</td>\n    </tr>\n    <tr>\n      <th>3</th>\n      <td>K. De Bruyne</td>\n      <td>Kevin De Bruyne</td>\n      <td>91</td>\n      <td>91</td>\n      <td>107500000</td>\n      <td>CM,CAM</td>\n      <td>CM</td>\n      <td>Belgium</td>\n      <td>https://cdn.sofifa.net/players/192/985/23_60.png</td>\n      <td>31</td>\n      <td>...</td>\n      <td>91</td>\n      <td>91</td>\n      <td>91</td>\n      <td>82</td>\n      <td>82</td>\n      <td>82</td>\n      <td>78</td>\n      <td>72</td>\n      <td>78</td>\n      <td>24</td>\n    </tr>\n    <tr>\n      <th>4</th>\n      <td>K. Mbappé</td>\n      <td>Kylian Mbappé</td>\n      <td>91</td>\n      <td>95</td>\n      <td>190500000</td>\n      <td>ST,LW</td>\n      <td>ST</td>\n      <td>France</td>\n      <td>https://cdn.sofifa.net/players/231/747/23_60.png</td>\n      <td>23</td>\n      <td>...</td>\n      <td>92</td>\n      <td>84</td>\n      <td>92</td>\n      <td>70</td>\n      <td>66</td>\n      <td>70</td>\n      <td>66</td>\n      <td>57</td>\n      <td>66</td>\n      <td>21</td>\n    </tr>\n    <tr>\n      <th>5</th>\n      <td>M. Salah</td>\n      <td>Mohamed Salah</td>\n      <td>90</td>\n      <td>90</td>\n      <td>115500000</td>\n      <td>RW</td>\n      <td>RW</td>\n      <td>Egypt</td>\n      <td>https://cdn.sofifa.net/players/209/331/23_60.png</td>\n      <td>30</td>\n      <td>...</td>\n      <td>90</td>\n      <td>85</td>\n      <td>90</td>\n      <td>74</td>\n      <td>71</td>\n      <td>74</td>\n      <td>70</td>\n      <td>61</td>\n      <td>70</td>\n      <td>25</td>\n    </tr>\n    <tr>\n      <th>6</th>\n      <td>T. Courtois</td>\n      <td>Thibaut Courtois</td>\n      <td>90</td>\n      <td>91</td>\n      <td>90000000</td>\n      <td>GK</td>\n      <td>GK</td>\n      <td>Belgium</td>\n      <td>https://cdn.sofifa.net/players/192/119/23_60.png</td>\n      <td>30</td>\n      <td>...</td>\n      <td>34</td>\n      <td>35</td>\n      <td>34</td>\n      <td>32</td>\n      <td>34</td>\n      <td>32</td>\n      <td>32</td>\n      <td>32</td>\n      <td>32</td>\n      <td>90</td>\n    </tr>\n    <tr>\n      <th>7</th>\n      <td>M. Neuer</td>\n      <td>Manuel Neuer</td>\n      <td>90</td>\n      <td>90</td>\n      <td>13500000</td>\n      <td>GK</td>\n      <td>GK</td>\n      <td>Germany</td>\n      <td>https://cdn.sofifa.net/players/167/495/23_60.png</td>\n      <td>36</td>\n      <td>...</td>\n      <td>47</td>\n      <td>53</td>\n      <td>47</td>\n      <td>39</td>\n      <td>46</td>\n      <td>39</td>\n      <td>38</td>\n      <td>37</td>\n      <td>38</td>\n      <td>90</td>\n    </tr>\n    <tr>\n      <th>8</th>\n      <td>Cristiano Ronaldo</td>\n      <td>C. Ronaldo dos Santos Aveiro</td>\n      <td>90</td>\n      <td>90</td>\n      <td>41000000</td>\n      <td>ST</td>\n      <td>ST</td>\n      <td>Portugal</td>\n      <td>https://cdn.sofifa.net/players/020/801/23_60.png</td>\n      <td>37</td>\n      <td>...</td>\n      <td>87</td>\n      <td>81</td>\n      <td>87</td>\n      <td>65</td>\n      <td>62</td>\n      <td>65</td>\n      <td>61</td>\n      <td>56</td>\n      <td>61</td>\n      <td>23</td>\n    </tr>\n    <tr>\n      <th>9</th>\n      <td>V. van Dijk</td>\n      <td>Virgil van Dijk</td>\n      <td>90</td>\n      <td>90</td>\n      <td>98000000</td>\n      <td>CB</td>\n      <td>CB</td>\n      <td>Netherlands</td>\n      <td>https://cdn.sofifa.net/players/203/376/23_60.png</td>\n      <td>30</td>\n      <td>...</td>\n      <td>73</td>\n      <td>79</td>\n      <td>73</td>\n      <td>83</td>\n      <td>88</td>\n      <td>83</td>\n      <td>85</td>\n      <td>90</td>\n      <td>85</td>\n      <td>23</td>\n    </tr>\n    <tr>\n      <th>10</th>\n      <td>H. Kane</td>\n      <td>Harry Kane</td>\n      <td>89</td>\n      <td>89</td>\n      <td>105500000</td>\n      <td>ST</td>\n      <td>ST</td>\n      <td>England</td>\n      <td>https://cdn.sofifa.net/players/202/126/23_60.png</td>\n      <td>28</td>\n      <td>...</td>\n      <td>86</td>\n      <td>84</td>\n      <td>86</td>\n      <td>69</td>\n      <td>71</td>\n      <td>69</td>\n      <td>66</td>\n      <td>64</td>\n      <td>66</td>\n      <td>23</td>\n    </tr>\n    <tr>\n      <th>11</th>\n      <td>Neymar Jr</td>\n      <td>Neymar da Silva Santos Jr.</td>\n      <td>89</td>\n      <td>89</td>\n      <td>99500000</td>\n      <td>LW</td>\n      <td>LW</td>\n      <td>Brazil</td>\n      <td>https://cdn.sofifa.net/players/190/871/23_60.png</td>\n      <td>30</td>\n      <td>...</td>\n      <td>89</td>\n      <td>85</td>\n      <td>89</td>\n      <td>69</td>\n      <td>66</td>\n      <td>69</td>\n      <td>64</td>\n      <td>53</td>\n      <td>64</td>\n      <td>23</td>\n    </tr>\n    <tr>\n      <th>12</th>\n      <td>H. Son</td>\n      <td>Heung Min Son</td>\n      <td>89</td>\n      <td>89</td>\n      <td>101000000</td>\n      <td>LW,LM</td>\n      <td>LW</td>\n      <td>Korea Republic</td>\n      <td>https://cdn.sofifa.net/players/200/104/23_60.png</td>\n      <td>29</td>\n      <td>...</td>\n      <td>89</td>\n      <td>83</td>\n      <td>89</td>\n      <td>71</td>\n      <td>67</td>\n      <td>71</td>\n      <td>67</td>\n      <td>57</td>\n      <td>67</td>\n      <td>22</td>\n    </tr>\n    <tr>\n      <th>13</th>\n      <td>Casemiro</td>\n      <td>Carlos Henrique Venancio Casimiro</td>\n      <td>89</td>\n      <td>89</td>\n      <td>86000000</td>\n      <td>CDM</td>\n      <td>CDM</td>\n      <td>Brazil</td>\n      <td>https://cdn.sofifa.net/players/200/145/23_60.png</td>\n      <td>30</td>\n      <td>...</td>\n      <td>76</td>\n      <td>84</td>\n      <td>76</td>\n      <td>83</td>\n      <td>89</td>\n      <td>83</td>\n      <td>84</td>\n      <td>89</td>\n      <td>84</td>\n      <td>24</td>\n    </tr>\n    <tr>\n      <th>14</th>\n      <td>J. Oblak</td>\n      <td>Jan Oblak</td>\n      <td>89</td>\n      <td>91</td>\n      <td>85500000</td>\n      <td>GK</td>\n      <td>GK</td>\n      <td>Slovenia</td>\n      <td>https://cdn.sofifa.net/players/200/389/23_60.png</td>\n      <td>29</td>\n      <td>...</td>\n      <td>37</td>\n      <td>41</td>\n      <td>37</td>\n      <td>35</td>\n      <td>40</td>\n      <td>35</td>\n      <td>35</td>\n      <td>36</td>\n      <td>35</td>\n      <td>90</td>\n    </tr>\n    <tr>\n      <th>15</th>\n      <td>S. Mané</td>\n      <td>Sadio Mané</td>\n      <td>89</td>\n      <td>89</td>\n      <td>99500000</td>\n      <td>LM,CF</td>\n      <td>LM</td>\n      <td>Senegal</td>\n      <td>https://cdn.sofifa.net/players/208/722/23_60.png</td>\n      <td>30</td>\n      <td>...</td>\n      <td>89</td>\n      <td>82</td>\n      <td>89</td>\n      <td>71</td>\n      <td>68</td>\n      <td>71</td>\n      <td>68</td>\n      <td>62</td>\n      <td>68</td>\n      <td>22</td>\n    </tr>\n    <tr>\n      <th>16</th>\n      <td>Ederson</td>\n      <td>Ederson Santana de Moraes</td>\n      <td>89</td>\n      <td>91</td>\n      <td>88000000</td>\n      <td>GK</td>\n      <td>GK</td>\n      <td>Brazil</td>\n      <td>https://cdn.sofifa.net/players/210/257/23_60.png</td>\n      <td>28</td>\n      <td>...</td>\n      <td>47</td>\n      <td>52</td>\n      <td>47</td>\n      <td>40</td>\n      <td>47</td>\n      <td>40</td>\n      <td>39</td>\n      <td>38</td>\n      <td>39</td>\n      <td>90</td>\n    </tr>\n    <tr>\n      <th>17</th>\n      <td>J. Kimmich</td>\n      <td>Joshua Kimmich</td>\n      <td>89</td>\n      <td>90</td>\n      <td>105500000</td>\n      <td>CDM,RB</td>\n      <td>CDM</td>\n      <td>Germany</td>\n      <td>https://cdn.sofifa.net/players/212/622/23_60.png</td>\n      <td>27</td>\n      <td>...</td>\n      <td>86</td>\n      <td>89</td>\n      <td>86</td>\n      <td>87</td>\n      <td>89</td>\n      <td>87</td>\n      <td>86</td>\n      <td>84</td>\n      <td>86</td>\n      <td>24</td>\n    </tr>\n    <tr>\n      <th>18</th>\n      <td>Alisson</td>\n      <td>Alisson Ramses Becker</td>\n      <td>89</td>\n      <td>90</td>\n      <td>79000000</td>\n      <td>GK</td>\n      <td>GK</td>\n      <td>Brazil</td>\n      <td>https://cdn.sofifa.net/players/212/831/23_60.png</td>\n      <td>29</td>\n      <td>...</td>\n      <td>45</td>\n      <td>49</td>\n      <td>45</td>\n      <td>36</td>\n      <td>42</td>\n      <td>36</td>\n      <td>35</td>\n      <td>35</td>\n      <td>35</td>\n      <td>90</td>\n    </tr>\n    <tr>\n      <th>19</th>\n      <td>N. Kanté</td>\n      <td>N'Golo Kanté</td>\n      <td>89</td>\n      <td>89</td>\n      <td>72000000</td>\n      <td>CDM,CM</td>\n      <td>CDM</td>\n      <td>France</td>\n      <td>https://cdn.sofifa.net/players/215/914/23_60.png</td>\n      <td>31</td>\n      <td>...</td>\n      <td>81</td>\n      <td>84</td>\n      <td>81</td>\n      <td>87</td>\n      <td>89</td>\n      <td>87</td>\n      <td>87</td>\n      <td>87</td>\n      <td>87</td>\n      <td>23</td>\n    </tr>\n  </tbody>\n</table>\n<p>20 rows × 89 columns</p>\n</div>"
     },
     "execution_count": 4,
     "metadata": {},
     "output_type": "execute_result"
    }
   ],
   "source": [
    "df.head(20)"
   ]
  },
  {
   "cell_type": "code",
   "execution_count": 5,
   "metadata": {},
   "outputs": [],
   "source": [
    "POSITIONS = df[\"Best Position\"].unique()"
   ]
  },
  {
   "cell_type": "code",
   "execution_count": 6,
   "metadata": {},
   "outputs": [],
   "source": [
    "CAM = df[df[\"Best Position\"] == \"CAM\"]"
   ]
  },
  {
   "cell_type": "code",
   "execution_count": 7,
   "metadata": {},
   "outputs": [],
   "source": [
    "Y = CAM[\"CAM Rating\"]"
   ]
  },
  {
   "cell_type": "code",
   "execution_count": 8,
   "metadata": {},
   "outputs": [],
   "source": [
    "FEATURE_NAMES = ['Crossing',\n",
    "       'Finishing', 'Heading Accuracy', 'Short Passing', 'Volleys',\n",
    "       'Dribbling', 'Curve', 'Freekick Accuracy', 'LongPassing', 'BallControl',\n",
    "       'Acceleration', 'Sprint Speed', 'Agility', 'Reactions', 'Balance',\n",
    "       'Shot Power', 'Jumping', 'Stamina', 'Strength', 'Long Shots',\n",
    "       'Aggression', 'Interceptions', 'Positioning', 'Vision', 'Penalties',\n",
    "       'Composure', 'Marking', 'Standing Tackle', 'Sliding Tackle',\n",
    "       'Goalkeeper Diving', 'Goalkeeper Handling', ' GoalkeeperKicking',\n",
    "       'Goalkeeper Positioning', 'Goalkeeper Reflexes']"
   ]
  },
  {
   "cell_type": "code",
   "execution_count": 9,
   "outputs": [],
   "source": [
    "POISITION_CODE = {\"CF\":\"Center Forward\",\n",
    "                     \"ST\":\"Striker\",\n",
    "                     \"RW\":\"Right Winger\",\n",
    "                     \"LW\":\"Left Winger\",\n",
    "                     \"GK\":\"Goalkeeper\",\n",
    "                     \"CB\":\"Center Back\",\n",
    "                     \"CDM\":\"Central Defensive Midfielder\",\n",
    "                     \"LB\":\"Left Back\",\n",
    "                     \"RB\":\"Right Back\",\n",
    "                     \"LWB\":\"Left Wing Back\",\n",
    "                     \"RWB\":\"Right Wing Back\",\n",
    "                     \"CAM\":\"Central Attacking Midfielder\",\n",
    "                     \"CM\":\"Central Midfielder\",\n",
    "                     \"LM\":\"Left Midfielder\",\n",
    "                     \"RM\":\"Right Midfielder\"}"
   ],
   "metadata": {
    "collapsed": false
   }
  },
  {
   "cell_type": "code",
   "execution_count": 10,
   "metadata": {},
   "outputs": [],
   "source": [
    "X = CAM[FEATURE_NAMES]"
   ]
  },
  {
   "cell_type": "code",
   "execution_count": 11,
   "metadata": {},
   "outputs": [],
   "source": [
    "model = LassoCV(cv=5, max_iter=5000)\n",
    "clf = model.fit(X, Y)"
   ]
  },
  {
   "cell_type": "code",
   "execution_count": 108,
   "metadata": {},
   "outputs": [],
   "source": [
    "# importance = pd.Series(clf.coef_)\n",
    "# plt.figure(figsize=(20,10))\n",
    "# plt.bar(x = FEATURE_NAMES, height=importance)\n",
    "# plt.xticks(rotation = 75)\n",
    "# plt.axhline(y=0.025, color='k', linestyle='--')\n",
    "# plt.title(\"Feature Importance of {}\".format(\"CAM\"), fontdict={'fontsize':15})\n",
    "# plt.show()"
   ]
  },
  {
   "cell_type": "code",
   "execution_count": 143,
   "metadata": {},
   "outputs": [],
   "source": [
    "# np.sum(importance)"
   ]
  },
  {
   "cell_type": "code",
   "execution_count": 14,
   "metadata": {},
   "outputs": [],
   "source": [
    "model2 = LinearRegression()\n",
    "clf2 = model2.fit(X, Y)"
   ]
  },
  {
   "cell_type": "code",
   "execution_count": 15,
   "metadata": {},
   "outputs": [
    {
     "data": {
      "text/plain": "array([ 0.00683591,  0.07898067,  0.00082315,  0.1498845 , -0.00947719,\n        0.14979237, -0.00080761, -0.01572838,  0.03311794,  0.16999527,\n        0.05937627,  0.03756801,  0.01593851,  0.07145887, -0.00418463,\n        0.00136398, -0.00509356,  0.01254118, -0.00407102,  0.04093038,\n       -0.00385696, -0.01004308,  0.07277995,  0.11649754, -0.01260006,\n       -0.00119468,  0.00076497,  0.0027215 ,  0.01453388, -0.01391756,\n       -0.01021284, -0.01474848,  0.00283232, -0.01060748])"
     },
     "execution_count": 15,
     "metadata": {},
     "output_type": "execute_result"
    }
   ],
   "source": [
    "clf2.coef_"
   ]
  },
  {
   "cell_type": "code",
   "execution_count": 16,
   "metadata": {},
   "outputs": [],
   "source": [
    "def calculateImportance(positionCode:str):\n",
    "       players = df[df[\"Best Position\"] == positionCode]\n",
    "       y = players[positionCode + ' Rating']\n",
    "       X = players[FEATURE_NAMES]\n",
    "       model = LassoCV()\n",
    "       clf = model.fit(X, y)\n",
    "       importance = np.abs(clf.coef_).tolist()\n",
    "       return importance"
   ]
  },
  {
   "cell_type": "code",
   "execution_count": 17,
   "metadata": {},
   "outputs": [],
   "source": [
    "# calculateImportance(\"LW\")"
   ]
  },
  {
   "cell_type": "code",
   "execution_count": 18,
   "metadata": {},
   "outputs": [],
   "source": [
    "role_weights = pd.DataFrame(index=POSITIONS, columns=FEATURE_NAMES)\n",
    "for role in POSITIONS:\n",
    "       role_weights.loc[role] = calculateImportance(role)"
   ]
  },
  {
   "cell_type": "code",
   "execution_count": 19,
   "metadata": {},
   "outputs": [],
   "source": [
    "# role_weights.loc[\"CAM\", :]"
   ]
  },
  {
   "cell_type": "code",
   "execution_count": 20,
   "metadata": {},
   "outputs": [
    {
     "data": {
      "text/plain": "     Crossing Finishing Heading Accuracy Short Passing   Volleys Dribbling  \\\nCAM  0.005458  0.078258              0.0      0.149039  0.007621  0.150559   \nCF   0.036481  0.105508         0.006299      0.076423  0.002509  0.110475   \nST   0.008423  0.225021          0.09095      0.063236  0.000014   0.07971   \nCM   0.007827  0.019249         0.012676      0.172745  0.006806  0.073538   \nRW   0.097452  0.082667         0.006883      0.091147  0.002446  0.177249   \nGK        0.0  0.008462              0.0      0.003796  0.002512       0.0   \nCB    0.00951  0.003719         0.083438      0.061257       0.0  0.008799   \nLW   0.100138  0.082873         0.006305      0.071299  0.007428  0.176652   \nCDM  0.002961  0.000207         0.008536      0.157685  0.005903  0.014046   \nLM   0.108998  0.060873         0.000753      0.116251       0.0  0.162695   \nLB   0.092197  0.000614         0.035556      0.071081  0.000379  0.006857   \nRM   0.084145  0.061893         0.000422      0.117338  0.006571  0.178659   \nRB   0.090126       0.0         0.035205      0.072311       0.0  0.004911   \nLWB  0.121573  0.003006         0.001176       0.10248  0.000752  0.061919   \nRWB  0.129774  0.000985         0.003047      0.093639   0.00689  0.049285   \n\n        Curve Freekick Accuracy LongPassing BallControl  ... Penalties  \\\nCAM       0.0          0.014378    0.032409    0.170041  ...    0.0115   \nCF        0.0               0.0    0.011789     0.19305  ...  0.009819   \nST        0.0          0.010574    0.001914    0.121737  ...  0.008641   \nCM        0.0           0.01327    0.155429    0.163861  ...  0.020229   \nRW   0.007685           0.00265    0.000931    0.164213  ...  0.008306   \nGK   0.005046               0.0         0.0         0.0  ...  0.001624   \nCB   0.001572          0.001008    0.002055    0.048055  ...       0.0   \nLW        0.0          0.003617         0.0    0.145505  ...       0.0   \nCDM  0.000235          0.007076    0.105972    0.099311  ...  0.007757   \nLM   0.003982          0.006229    0.034035    0.142298  ...  0.013641   \nLB        0.0           0.00016     0.00112    0.071744  ...       0.0   \nRM   0.001957          0.012025    0.035384    0.142381  ...  0.009162   \nRB   0.000434               0.0         0.0    0.072799  ...  0.000554   \nLWB       0.0               0.0    0.000955    0.073306  ...  0.000413   \nRWB  0.000907          0.001936         0.0    0.074073  ...       0.0   \n\n    Composure   Marking Standing Tackle Sliding Tackle Goalkeeper Diving  \\\nCAM       0.0       0.0        0.001553       0.013952          0.008606   \nCF        0.0       0.0        0.005041            0.0               0.0   \nST   0.013144  0.003661        0.001177       0.001197          0.004967   \nCM   0.000509  0.003619        0.063621       0.013635          0.012598   \nRW   0.000903  0.000791         0.00085       0.004477               0.0   \nGK   0.006811  0.005693             0.0            0.0          0.213882   \nCB   0.015446  0.129078        0.214567       0.094047          0.014846   \nLW   0.001439  0.000741        0.002667            0.0           0.01412   \nCDM  0.000338  0.096636        0.127284       0.057116          0.010548   \nLM        0.0   0.00186        0.010495       0.001622          0.003656   \nLB        0.0  0.075702        0.115549       0.135979               0.0   \nRM        0.0  0.006838             0.0       0.008788          0.013187   \nRB        0.0  0.069903        0.119344       0.133971               0.0   \nLWB  0.000145  0.055596        0.110105       0.089167               0.0   \nRWB       0.0  0.065767        0.109662       0.100222          0.004097   \n\n    Goalkeeper Handling  GoalkeeperKicking Goalkeeper Positioning  \\\nCAM            0.003828           0.008545                    0.0   \nCF                  0.0                0.0                    0.0   \nST             0.005106           0.010331               0.007182   \nCM             0.004624            0.00728               0.010053   \nRW             0.014245                0.0                    0.0   \nGK             0.211593           0.050766               0.191833   \nCB             0.012726           0.005609               0.010795   \nLW             0.015292                0.0               0.002883   \nCDM            0.011712                0.0                    0.0   \nLM              0.00936            0.00961               0.008656   \nLB                  0.0                0.0                    0.0   \nRM             0.011507           0.009565                    0.0   \nRB                  0.0                0.0                    0.0   \nLWB            0.001007                0.0                 0.0014   \nRWB                 0.0                0.0               0.000191   \n\n    Goalkeeper Reflexes  \nCAM             0.00428  \nCF                  0.0  \nST             0.013566  \nCM             0.022411  \nRW                  0.0  \nGK             0.225915  \nCB             0.004782  \nLW                  0.0  \nCDM            0.001594  \nLM             0.004243  \nLB                  0.0  \nRM             0.015745  \nRB                  0.0  \nLWB                 0.0  \nRWB                 0.0  \n\n[15 rows x 34 columns]",
      "text/html": "<div>\n<style scoped>\n    .dataframe tbody tr th:only-of-type {\n        vertical-align: middle;\n    }\n\n    .dataframe tbody tr th {\n        vertical-align: top;\n    }\n\n    .dataframe thead th {\n        text-align: right;\n    }\n</style>\n<table border=\"1\" class=\"dataframe\">\n  <thead>\n    <tr style=\"text-align: right;\">\n      <th></th>\n      <th>Crossing</th>\n      <th>Finishing</th>\n      <th>Heading Accuracy</th>\n      <th>Short Passing</th>\n      <th>Volleys</th>\n      <th>Dribbling</th>\n      <th>Curve</th>\n      <th>Freekick Accuracy</th>\n      <th>LongPassing</th>\n      <th>BallControl</th>\n      <th>...</th>\n      <th>Penalties</th>\n      <th>Composure</th>\n      <th>Marking</th>\n      <th>Standing Tackle</th>\n      <th>Sliding Tackle</th>\n      <th>Goalkeeper Diving</th>\n      <th>Goalkeeper Handling</th>\n      <th>GoalkeeperKicking</th>\n      <th>Goalkeeper Positioning</th>\n      <th>Goalkeeper Reflexes</th>\n    </tr>\n  </thead>\n  <tbody>\n    <tr>\n      <th>CAM</th>\n      <td>0.005458</td>\n      <td>0.078258</td>\n      <td>0.0</td>\n      <td>0.149039</td>\n      <td>0.007621</td>\n      <td>0.150559</td>\n      <td>0.0</td>\n      <td>0.014378</td>\n      <td>0.032409</td>\n      <td>0.170041</td>\n      <td>...</td>\n      <td>0.0115</td>\n      <td>0.0</td>\n      <td>0.0</td>\n      <td>0.001553</td>\n      <td>0.013952</td>\n      <td>0.008606</td>\n      <td>0.003828</td>\n      <td>0.008545</td>\n      <td>0.0</td>\n      <td>0.00428</td>\n    </tr>\n    <tr>\n      <th>CF</th>\n      <td>0.036481</td>\n      <td>0.105508</td>\n      <td>0.006299</td>\n      <td>0.076423</td>\n      <td>0.002509</td>\n      <td>0.110475</td>\n      <td>0.0</td>\n      <td>0.0</td>\n      <td>0.011789</td>\n      <td>0.19305</td>\n      <td>...</td>\n      <td>0.009819</td>\n      <td>0.0</td>\n      <td>0.0</td>\n      <td>0.005041</td>\n      <td>0.0</td>\n      <td>0.0</td>\n      <td>0.0</td>\n      <td>0.0</td>\n      <td>0.0</td>\n      <td>0.0</td>\n    </tr>\n    <tr>\n      <th>ST</th>\n      <td>0.008423</td>\n      <td>0.225021</td>\n      <td>0.09095</td>\n      <td>0.063236</td>\n      <td>0.000014</td>\n      <td>0.07971</td>\n      <td>0.0</td>\n      <td>0.010574</td>\n      <td>0.001914</td>\n      <td>0.121737</td>\n      <td>...</td>\n      <td>0.008641</td>\n      <td>0.013144</td>\n      <td>0.003661</td>\n      <td>0.001177</td>\n      <td>0.001197</td>\n      <td>0.004967</td>\n      <td>0.005106</td>\n      <td>0.010331</td>\n      <td>0.007182</td>\n      <td>0.013566</td>\n    </tr>\n    <tr>\n      <th>CM</th>\n      <td>0.007827</td>\n      <td>0.019249</td>\n      <td>0.012676</td>\n      <td>0.172745</td>\n      <td>0.006806</td>\n      <td>0.073538</td>\n      <td>0.0</td>\n      <td>0.01327</td>\n      <td>0.155429</td>\n      <td>0.163861</td>\n      <td>...</td>\n      <td>0.020229</td>\n      <td>0.000509</td>\n      <td>0.003619</td>\n      <td>0.063621</td>\n      <td>0.013635</td>\n      <td>0.012598</td>\n      <td>0.004624</td>\n      <td>0.00728</td>\n      <td>0.010053</td>\n      <td>0.022411</td>\n    </tr>\n    <tr>\n      <th>RW</th>\n      <td>0.097452</td>\n      <td>0.082667</td>\n      <td>0.006883</td>\n      <td>0.091147</td>\n      <td>0.002446</td>\n      <td>0.177249</td>\n      <td>0.007685</td>\n      <td>0.00265</td>\n      <td>0.000931</td>\n      <td>0.164213</td>\n      <td>...</td>\n      <td>0.008306</td>\n      <td>0.000903</td>\n      <td>0.000791</td>\n      <td>0.00085</td>\n      <td>0.004477</td>\n      <td>0.0</td>\n      <td>0.014245</td>\n      <td>0.0</td>\n      <td>0.0</td>\n      <td>0.0</td>\n    </tr>\n    <tr>\n      <th>GK</th>\n      <td>0.0</td>\n      <td>0.008462</td>\n      <td>0.0</td>\n      <td>0.003796</td>\n      <td>0.002512</td>\n      <td>0.0</td>\n      <td>0.005046</td>\n      <td>0.0</td>\n      <td>0.0</td>\n      <td>0.0</td>\n      <td>...</td>\n      <td>0.001624</td>\n      <td>0.006811</td>\n      <td>0.005693</td>\n      <td>0.0</td>\n      <td>0.0</td>\n      <td>0.213882</td>\n      <td>0.211593</td>\n      <td>0.050766</td>\n      <td>0.191833</td>\n      <td>0.225915</td>\n    </tr>\n    <tr>\n      <th>CB</th>\n      <td>0.00951</td>\n      <td>0.003719</td>\n      <td>0.083438</td>\n      <td>0.061257</td>\n      <td>0.0</td>\n      <td>0.008799</td>\n      <td>0.001572</td>\n      <td>0.001008</td>\n      <td>0.002055</td>\n      <td>0.048055</td>\n      <td>...</td>\n      <td>0.0</td>\n      <td>0.015446</td>\n      <td>0.129078</td>\n      <td>0.214567</td>\n      <td>0.094047</td>\n      <td>0.014846</td>\n      <td>0.012726</td>\n      <td>0.005609</td>\n      <td>0.010795</td>\n      <td>0.004782</td>\n    </tr>\n    <tr>\n      <th>LW</th>\n      <td>0.100138</td>\n      <td>0.082873</td>\n      <td>0.006305</td>\n      <td>0.071299</td>\n      <td>0.007428</td>\n      <td>0.176652</td>\n      <td>0.0</td>\n      <td>0.003617</td>\n      <td>0.0</td>\n      <td>0.145505</td>\n      <td>...</td>\n      <td>0.0</td>\n      <td>0.001439</td>\n      <td>0.000741</td>\n      <td>0.002667</td>\n      <td>0.0</td>\n      <td>0.01412</td>\n      <td>0.015292</td>\n      <td>0.0</td>\n      <td>0.002883</td>\n      <td>0.0</td>\n    </tr>\n    <tr>\n      <th>CDM</th>\n      <td>0.002961</td>\n      <td>0.000207</td>\n      <td>0.008536</td>\n      <td>0.157685</td>\n      <td>0.005903</td>\n      <td>0.014046</td>\n      <td>0.000235</td>\n      <td>0.007076</td>\n      <td>0.105972</td>\n      <td>0.099311</td>\n      <td>...</td>\n      <td>0.007757</td>\n      <td>0.000338</td>\n      <td>0.096636</td>\n      <td>0.127284</td>\n      <td>0.057116</td>\n      <td>0.010548</td>\n      <td>0.011712</td>\n      <td>0.0</td>\n      <td>0.0</td>\n      <td>0.001594</td>\n    </tr>\n    <tr>\n      <th>LM</th>\n      <td>0.108998</td>\n      <td>0.060873</td>\n      <td>0.000753</td>\n      <td>0.116251</td>\n      <td>0.0</td>\n      <td>0.162695</td>\n      <td>0.003982</td>\n      <td>0.006229</td>\n      <td>0.034035</td>\n      <td>0.142298</td>\n      <td>...</td>\n      <td>0.013641</td>\n      <td>0.0</td>\n      <td>0.00186</td>\n      <td>0.010495</td>\n      <td>0.001622</td>\n      <td>0.003656</td>\n      <td>0.00936</td>\n      <td>0.00961</td>\n      <td>0.008656</td>\n      <td>0.004243</td>\n    </tr>\n    <tr>\n      <th>LB</th>\n      <td>0.092197</td>\n      <td>0.000614</td>\n      <td>0.035556</td>\n      <td>0.071081</td>\n      <td>0.000379</td>\n      <td>0.006857</td>\n      <td>0.0</td>\n      <td>0.00016</td>\n      <td>0.00112</td>\n      <td>0.071744</td>\n      <td>...</td>\n      <td>0.0</td>\n      <td>0.0</td>\n      <td>0.075702</td>\n      <td>0.115549</td>\n      <td>0.135979</td>\n      <td>0.0</td>\n      <td>0.0</td>\n      <td>0.0</td>\n      <td>0.0</td>\n      <td>0.0</td>\n    </tr>\n    <tr>\n      <th>RM</th>\n      <td>0.084145</td>\n      <td>0.061893</td>\n      <td>0.000422</td>\n      <td>0.117338</td>\n      <td>0.006571</td>\n      <td>0.178659</td>\n      <td>0.001957</td>\n      <td>0.012025</td>\n      <td>0.035384</td>\n      <td>0.142381</td>\n      <td>...</td>\n      <td>0.009162</td>\n      <td>0.0</td>\n      <td>0.006838</td>\n      <td>0.0</td>\n      <td>0.008788</td>\n      <td>0.013187</td>\n      <td>0.011507</td>\n      <td>0.009565</td>\n      <td>0.0</td>\n      <td>0.015745</td>\n    </tr>\n    <tr>\n      <th>RB</th>\n      <td>0.090126</td>\n      <td>0.0</td>\n      <td>0.035205</td>\n      <td>0.072311</td>\n      <td>0.0</td>\n      <td>0.004911</td>\n      <td>0.000434</td>\n      <td>0.0</td>\n      <td>0.0</td>\n      <td>0.072799</td>\n      <td>...</td>\n      <td>0.000554</td>\n      <td>0.0</td>\n      <td>0.069903</td>\n      <td>0.119344</td>\n      <td>0.133971</td>\n      <td>0.0</td>\n      <td>0.0</td>\n      <td>0.0</td>\n      <td>0.0</td>\n      <td>0.0</td>\n    </tr>\n    <tr>\n      <th>LWB</th>\n      <td>0.121573</td>\n      <td>0.003006</td>\n      <td>0.001176</td>\n      <td>0.10248</td>\n      <td>0.000752</td>\n      <td>0.061919</td>\n      <td>0.0</td>\n      <td>0.0</td>\n      <td>0.000955</td>\n      <td>0.073306</td>\n      <td>...</td>\n      <td>0.000413</td>\n      <td>0.000145</td>\n      <td>0.055596</td>\n      <td>0.110105</td>\n      <td>0.089167</td>\n      <td>0.0</td>\n      <td>0.001007</td>\n      <td>0.0</td>\n      <td>0.0014</td>\n      <td>0.0</td>\n    </tr>\n    <tr>\n      <th>RWB</th>\n      <td>0.129774</td>\n      <td>0.000985</td>\n      <td>0.003047</td>\n      <td>0.093639</td>\n      <td>0.00689</td>\n      <td>0.049285</td>\n      <td>0.000907</td>\n      <td>0.001936</td>\n      <td>0.0</td>\n      <td>0.074073</td>\n      <td>...</td>\n      <td>0.0</td>\n      <td>0.0</td>\n      <td>0.065767</td>\n      <td>0.109662</td>\n      <td>0.100222</td>\n      <td>0.004097</td>\n      <td>0.0</td>\n      <td>0.0</td>\n      <td>0.000191</td>\n      <td>0.0</td>\n    </tr>\n  </tbody>\n</table>\n<p>15 rows × 34 columns</p>\n</div>"
     },
     "execution_count": 20,
     "metadata": {},
     "output_type": "execute_result"
    }
   ],
   "source": [
    "role_weights"
   ]
  },
  {
   "cell_type": "code",
   "execution_count": 21,
   "metadata": {},
   "outputs": [],
   "source": [
    "role_weights_filter = role_weights.mask(role_weights<0.01, 0)"
   ]
  },
  {
   "cell_type": "code",
   "execution_count": 22,
   "metadata": {},
   "outputs": [],
   "source": [
    "role_sum = np.sum(role_weights_filter, axis=1)"
   ]
  },
  {
   "cell_type": "code",
   "execution_count": 23,
   "metadata": {},
   "outputs": [],
   "source": [
    "traits_sum = np.sum(role_weights_filter, axis=0)"
   ]
  },
  {
   "cell_type": "code",
   "execution_count": 24,
   "outputs": [],
   "source": [
    "redundant_traits = traits_sum[traits_sum==0]\n",
    "df = df.drop(redundant_traits.index.to_list(), axis=1)\n",
    "role_weights_filter = role_weights_filter.drop(redundant_traits.index.to_list(), axis=1)\n",
    "FEATURE_NAMES = [FEATURES for FEATURES in FEATURE_NAMES if FEATURES not in redundant_traits.index]"
   ],
   "metadata": {
    "collapsed": false
   }
  },
  {
   "cell_type": "code",
   "execution_count": 25,
   "outputs": [],
   "source": [
    "# redundant_traits.index.any()"
   ],
   "metadata": {
    "collapsed": false
   }
  },
  {
   "cell_type": "code",
   "execution_count": 26,
   "outputs": [],
   "source": [
    "# FEATURE_NAMES"
   ],
   "metadata": {
    "collapsed": false
   }
  },
  {
   "cell_type": "markdown",
   "source": [
    "# Normalising Weights"
   ],
   "metadata": {
    "collapsed": false
   }
  },
  {
   "cell_type": "code",
   "execution_count": 27,
   "outputs": [],
   "source": [
    "ROLE_WEIGHTS_NORM = role_weights_filter.divide(role_sum, axis='rows')"
   ],
   "metadata": {
    "collapsed": false
   }
  },
  {
   "cell_type": "code",
   "execution_count": 28,
   "outputs": [],
   "source": [
    "# role_sum"
   ],
   "metadata": {
    "collapsed": false
   }
  },
  {
   "cell_type": "code",
   "execution_count": 29,
   "outputs": [],
   "source": [
    "role_sum_norm = np.sum(ROLE_WEIGHTS_NORM, axis=1)"
   ],
   "metadata": {
    "collapsed": false
   }
  },
  {
   "cell_type": "code",
   "execution_count": 30,
   "outputs": [],
   "source": [
    "# role_sum_norm"
   ],
   "metadata": {
    "collapsed": false
   }
  },
  {
   "cell_type": "code",
   "execution_count": 31,
   "outputs": [],
   "source": [
    "def visualiseFeature(positionCode:str):\n",
    "       weight = ROLE_WEIGHTS_NORM.loc[positionCode]\n",
    "       plt.figure(figsize=(15,10))\n",
    "       plt.bar(x = FEATURE_NAMES, height=weight)\n",
    "       plt.xticks(rotation = 75)\n",
    "       plt.axhline(y=0.01, color='k', linestyle='--')\n",
    "       plt.title(\"Feature Importance of {}\".format(POISITION_CODE[positionCode]), fontdict={'fontsize':15})\n",
    "       plt.savefig(os.getcwd()+\"/figures/{}_featureimportance.png\".format(positionCode))\n",
    "       # plt.show()\n",
    "       plt.close()"
   ],
   "metadata": {
    "collapsed": false
   }
  },
  {
   "cell_type": "code",
   "execution_count": 32,
   "outputs": [],
   "source": [
    "for position in POSITIONS:\n",
    "    visualiseFeature(position)"
   ],
   "metadata": {
    "collapsed": false
   }
  },
  {
   "cell_type": "markdown",
   "source": [
    "# Teams Creator\n",
    "\n",
    "1. As a user, I can select 2 teams to play against each other\n",
    "2. As a user, I can select 11 roles and the players playing in that role"
   ],
   "metadata": {
    "collapsed": false
   }
  },
  {
   "cell_type": "code",
   "execution_count": 33,
   "outputs": [],
   "source": [
    "ALL_TEAMS = df[\"Club Name\"].unique().tolist()"
   ],
   "metadata": {
    "collapsed": false
   }
  },
  {
   "cell_type": "code",
   "execution_count": 34,
   "outputs": [],
   "source": [
    "def getPlayersFromTeam(teamName:str):\n",
    "    players = df[df[\"Club Name\"]==teamName]\n",
    "    return players"
   ],
   "metadata": {
    "collapsed": false
   }
  },
  {
   "cell_type": "code",
   "execution_count": 35,
   "outputs": [],
   "source": [
    "# getPlayersFromTeam(\"Chelsea\")"
   ],
   "metadata": {
    "collapsed": false
   }
  },
  {
   "cell_type": "code",
   "execution_count": 36,
   "outputs": [],
   "source": [
    "def getPlayersFromPosition(teamName:str, positionCode:str):\n",
    "    players = getPlayersFromTeam(teamName)\n",
    "    players_position = players[(players[\"Best Position\"]==positionCode) | (players[\"Positions Played\"].str.contains(positionCode))]\n",
    "    return players_position"
   ],
   "metadata": {
    "collapsed": false
   }
  },
  {
   "cell_type": "code",
   "execution_count": 37,
   "outputs": [],
   "source": [
    "# getPlayersFromPosition(\"Paris Saint-Germain\", \"CAM\")"
   ],
   "metadata": {
    "collapsed": false
   }
  },
  {
   "cell_type": "code",
   "execution_count": 38,
   "outputs": [],
   "source": [
    "# df[\"Positions Played\"].str.contains(\"CAM\")"
   ],
   "metadata": {
    "collapsed": false
   }
  },
  {
   "cell_type": "code",
   "execution_count": 39,
   "outputs": [],
   "source": [
    "# df[\"Best Position\"]==\"CAM\""
   ],
   "metadata": {
    "collapsed": false
   }
  },
  {
   "cell_type": "markdown",
   "source": [
    "## Team Creator Application"
   ],
   "metadata": {
    "collapsed": false
   }
  },
  {
   "cell_type": "code",
   "execution_count": 40,
   "outputs": [],
   "source": [
    "# from dash import Dash, html\n",
    "#\n",
    "# app = Dash(\"Creator\")\n",
    "#\n",
    "# app.layout = html.Div([\n",
    "#     html.Div(children='Hello World')\n",
    "# ])\n",
    "#\n",
    "# app.run(debug=True)"
   ],
   "metadata": {
    "collapsed": false
   }
  },
  {
   "cell_type": "markdown",
   "source": [
    "# Goals Score Probability Calculator"
   ],
   "metadata": {
    "collapsed": false
   }
  },
  {
   "cell_type": "code",
   "execution_count": 41,
   "outputs": [],
   "source": [
    "POSITION_CONTRIBUTION = pd.read_csv(os.getcwd()+'/data/position_contribution.csv')\n",
    "POSITION_CONTRIBUTION = POSITION_CONTRIBUTION.set_index('Unnamed: 0')"
   ],
   "metadata": {
    "collapsed": false
   }
  },
  {
   "cell_type": "code",
   "execution_count": 73,
   "outputs": [],
   "source": [
    "# POSITION_CONTRIBUTION.loc[\"LW\"]"
   ],
   "metadata": {
    "collapsed": false
   }
  },
  {
   "cell_type": "code",
   "execution_count": 64,
   "outputs": [
    {
     "data": {
      "text/plain": "                 Known As                         Full Name  Overall  \\\n99              T. Partey                     Thomas Partey       84   \n151           M. Ødegaard                   Martin Ødegaard       84   \n164         Gabriel Jesus         Gabriel Fernando de Jesus       83   \n229               B. Saka                       Bukayo Saka       82   \n235           A. Ramsdale                    Aaron Ramsdale       82   \n322            K. Tierney                    Kieran Tierney       81   \n325               Gabriel          Gabriel dos S. Magalhães       81   \n412             W. Saliba                    William Saliba       80   \n416         E. Smith Rowe                  Emile Smith Rowe       80   \n561          O. Zinchenko               Oleksandr Zinchenko       79   \n580              B. White                    Benjamin White       79   \n607           T. Tomiyasu                 Takehiro Tomiyasu       79   \n624              G. Xhaka                      Granit Xhaka       79   \n686    Gabriel Martinelli  Gabriel Teodoro Martinelli Silva       78   \n897             M. Turner                       Matt Turner       77   \n998          Fábio Vieira      Fábio Daniel Ferreira Vieira       77   \n1032           R. Holding                       Rob Holding       77   \n1368            M. Elneny                    Mohamed Elneny       76   \n1643     A. Sambi Lokonga              Albert Sambi Lokonga       75   \n1734               Cédric       Cédric Ricardo Alves Soares       75   \n2415            R. Nelson                      Reiss Nelson       73   \n2827           Marquinhos   Marcus Vincius Oliveira Alencar       73   \n2933           E. Nketiah                     Eddie Nketiah       73   \n10855            M. Smith                     Matthew Smith       64   \n10943             K. Hein                         Karl Hein       64   \n13288           C. Cîrjan                    Cătălin Cîrjan       62   \n14095            J. Ideho                        Joel Ideho       61   \n15912   A. Cozier-Duberry             Amario Cozier-Duberry       59   \n16986            L. Sousa                        Lino Sousa       56   \n\n       Potential  Value(in Euro) Positions Played Best Position  \\\n99            84        36000000           CDM,CM           CDM   \n151           89        63500000           CAM,CM           CAM   \n164           86        48500000            ST,RW            ST   \n229           89        60500000            RM,LM            LM   \n235           86        34500000               GK            GK   \n322           85        33000000               LB           LWB   \n325           87        37000000               CB            CB   \n412           87        40000000               CB            CB   \n416           87        43000000           LM,CAM           CAM   \n561           82        21500000               LB            CM   \n580           86        32500000               CB           CDM   \n607           85        26000000               RB            CB   \n624           79        15000000           CDM,CM           CDM   \n686           88        31500000               LM            RM   \n897           80         9500000               GK            GK   \n998           87        23500000           CAM,RM           CAM   \n1032          79        11500000               CB            CB   \n1368          76         6500000           CDM,CM           CDM   \n1643          83        12500000           CM,CDM            CM   \n1734          75         4800000               RB            RB   \n2415          80         6000000            RW,LW            RM   \n2827          86         7000000            RM,LM            LM   \n2933          80         6000000               ST            ST   \n10855         74         1300000           CM,CDM            CM   \n10943         77         1200000               GK            GK   \n13288         78         1000000            CM,RM           CAM   \n14095         78          825000         LM,RM,CF            RM   \n15912         78          550000           LM,CAM            LM   \n16986         80          425000               LB            LB   \n\n         Nationality                                        Image Link  Age  \\\n99             Ghana  https://cdn.sofifa.net/players/209/989/23_60.png   29   \n151           Norway  https://cdn.sofifa.net/players/222/665/23_60.png   23   \n164           Brazil  https://cdn.sofifa.net/players/230/666/23_60.png   25   \n229          England  https://cdn.sofifa.net/players/246/669/23_60.png   20   \n235          England  https://cdn.sofifa.net/players/233/934/23_60.png   24   \n322         Scotland  https://cdn.sofifa.net/players/226/491/23_60.png   25   \n325           Brazil  https://cdn.sofifa.net/players/232/580/23_60.png   24   \n412           France  https://cdn.sofifa.net/players/243/715/23_60.png   21   \n416          England  https://cdn.sofifa.net/players/240/273/23_60.png   21   \n561          Ukraine  https://cdn.sofifa.net/players/227/813/23_60.png   25   \n580          England  https://cdn.sofifa.net/players/231/936/23_60.png   24   \n607            Japan  https://cdn.sofifa.net/players/232/938/23_60.png   23   \n624      Switzerland  https://cdn.sofifa.net/players/199/503/23_60.png   29   \n686           Brazil  https://cdn.sofifa.net/players/251/566/23_60.png   21   \n897    United States  https://cdn.sofifa.net/players/233/267/23_60.png   28   \n998         Portugal  https://cdn.sofifa.net/players/256/958/23_60.png   22   \n1032         England  https://cdn.sofifa.net/players/228/295/23_60.png   26   \n1368           Egypt  https://cdn.sofifa.net/players/211/454/23_60.png   29   \n1643         Belgium  https://cdn.sofifa.net/players/241/928/23_60.png   22   \n1734        Portugal  https://cdn.sofifa.net/players/201/118/23_60.png   30   \n2415         England  https://cdn.sofifa.net/players/231/448/23_60.png   22   \n2827          Brazil  https://cdn.sofifa.net/players/270/390/23_60.png   19   \n2933         England  https://cdn.sofifa.net/players/236/988/23_60.png   23   \n10855        England  https://cdn.sofifa.net/players/247/731/23_60.png   21   \n10943        Estonia  https://cdn.sofifa.net/players/248/732/23_60.png   20   \n13288        Romania  https://cdn.sofifa.net/players/260/141/23_60.png   19   \n14095    Netherlands  https://cdn.sofifa.net/players/259/403/23_60.png   18   \n15912        England  https://cdn.sofifa.net/players/271/743/23_60.png   17   \n16986        England  https://cdn.sofifa.net/players/271/808/23_60.png   17   \n\n       ...  LM Rating  CM Rating  RM Rating  LWB Rating CDM Rating  \\\n99     ...         80         84         80          82         84   \n151    ...         85         84         85          75         74   \n164    ...         84         77         84          65         62   \n229    ...         83         79         83          78         74   \n235    ...         40         45         40          35         41   \n322    ...         79         77         79          82         79   \n325    ...         61         68         61          72         78   \n412    ...         70         72         70          78         80   \n416    ...         81         75         81          62         59   \n561    ...         79         80         79          79         80   \n580    ...         68         73         68          77         81   \n607    ...         70         72         70          78         79   \n624    ...         73         79         73          74         79   \n686    ...         79         71         79          66         61   \n897    ...         31         33         31          28         31   \n998    ...         77         74         77          62         60   \n1032   ...         62         67         62          71         76   \n1368   ...         71         75         71          74         76   \n1643   ...         75         77         75          75         76   \n1734   ...         73         73         73          75         74   \n2415   ...         75         68         75          62         56   \n2827   ...         74         66         74          58         53   \n2933   ...         71         63         71          51         48   \n10855  ...         64         66         64          64         65   \n10943  ...         24         25         24          25         25   \n13288  ...         64         64         64          55         56   \n14095  ...         62         55         62          53         46   \n15912  ...         60         53         60          48         44   \n16986  ...         52         48         52          56         52   \n\n       RWB Rating  LB Rating CB Rating RB Rating GK Rating  \n99             82         81        83        81        20  \n151            75         72        64        72        22  \n164            65         61        56        61        20  \n229            78         76        68        76        19  \n235            35         34        33        34        83  \n322            82         81        78        81        22  \n325            72         75        83        75        19  \n412            78         79        82        79        19  \n416            62         57        46        57        19  \n561            79         79        77        79        21  \n580            77         78        81        78        18  \n607            78         79        80        79        19  \n624            74         73        74        73        19  \n686            66         64        57        64        17  \n897            28         27        28        27        78  \n998            62         58        49        58        17  \n1032           71         72        79        72        22  \n1368           74         73        74        73        19  \n1643           75         74        72        74        19  \n1734           75         75        73        75        21  \n2415           62         58        47        58        20  \n2827           58         55        45        55        16  \n2933           51         48        42        48        18  \n10855          64         63        61        63        20  \n10943          25         25        24        25        65  \n13288          55         54        49        54        19  \n14095          53         51        43        51        14  \n15912          48         45        39        45        17  \n16986          56         56        56        56        17  \n\n[29 rows x 86 columns]",
      "text/html": "<div>\n<style scoped>\n    .dataframe tbody tr th:only-of-type {\n        vertical-align: middle;\n    }\n\n    .dataframe tbody tr th {\n        vertical-align: top;\n    }\n\n    .dataframe thead th {\n        text-align: right;\n    }\n</style>\n<table border=\"1\" class=\"dataframe\">\n  <thead>\n    <tr style=\"text-align: right;\">\n      <th></th>\n      <th>Known As</th>\n      <th>Full Name</th>\n      <th>Overall</th>\n      <th>Potential</th>\n      <th>Value(in Euro)</th>\n      <th>Positions Played</th>\n      <th>Best Position</th>\n      <th>Nationality</th>\n      <th>Image Link</th>\n      <th>Age</th>\n      <th>...</th>\n      <th>LM Rating</th>\n      <th>CM Rating</th>\n      <th>RM Rating</th>\n      <th>LWB Rating</th>\n      <th>CDM Rating</th>\n      <th>RWB Rating</th>\n      <th>LB Rating</th>\n      <th>CB Rating</th>\n      <th>RB Rating</th>\n      <th>GK Rating</th>\n    </tr>\n  </thead>\n  <tbody>\n    <tr>\n      <th>99</th>\n      <td>T. Partey</td>\n      <td>Thomas Partey</td>\n      <td>84</td>\n      <td>84</td>\n      <td>36000000</td>\n      <td>CDM,CM</td>\n      <td>CDM</td>\n      <td>Ghana</td>\n      <td>https://cdn.sofifa.net/players/209/989/23_60.png</td>\n      <td>29</td>\n      <td>...</td>\n      <td>80</td>\n      <td>84</td>\n      <td>80</td>\n      <td>82</td>\n      <td>84</td>\n      <td>82</td>\n      <td>81</td>\n      <td>83</td>\n      <td>81</td>\n      <td>20</td>\n    </tr>\n    <tr>\n      <th>151</th>\n      <td>M. Ødegaard</td>\n      <td>Martin Ødegaard</td>\n      <td>84</td>\n      <td>89</td>\n      <td>63500000</td>\n      <td>CAM,CM</td>\n      <td>CAM</td>\n      <td>Norway</td>\n      <td>https://cdn.sofifa.net/players/222/665/23_60.png</td>\n      <td>23</td>\n      <td>...</td>\n      <td>85</td>\n      <td>84</td>\n      <td>85</td>\n      <td>75</td>\n      <td>74</td>\n      <td>75</td>\n      <td>72</td>\n      <td>64</td>\n      <td>72</td>\n      <td>22</td>\n    </tr>\n    <tr>\n      <th>164</th>\n      <td>Gabriel Jesus</td>\n      <td>Gabriel Fernando de Jesus</td>\n      <td>83</td>\n      <td>86</td>\n      <td>48500000</td>\n      <td>ST,RW</td>\n      <td>ST</td>\n      <td>Brazil</td>\n      <td>https://cdn.sofifa.net/players/230/666/23_60.png</td>\n      <td>25</td>\n      <td>...</td>\n      <td>84</td>\n      <td>77</td>\n      <td>84</td>\n      <td>65</td>\n      <td>62</td>\n      <td>65</td>\n      <td>61</td>\n      <td>56</td>\n      <td>61</td>\n      <td>20</td>\n    </tr>\n    <tr>\n      <th>229</th>\n      <td>B. Saka</td>\n      <td>Bukayo Saka</td>\n      <td>82</td>\n      <td>89</td>\n      <td>60500000</td>\n      <td>RM,LM</td>\n      <td>LM</td>\n      <td>England</td>\n      <td>https://cdn.sofifa.net/players/246/669/23_60.png</td>\n      <td>20</td>\n      <td>...</td>\n      <td>83</td>\n      <td>79</td>\n      <td>83</td>\n      <td>78</td>\n      <td>74</td>\n      <td>78</td>\n      <td>76</td>\n      <td>68</td>\n      <td>76</td>\n      <td>19</td>\n    </tr>\n    <tr>\n      <th>235</th>\n      <td>A. Ramsdale</td>\n      <td>Aaron Ramsdale</td>\n      <td>82</td>\n      <td>86</td>\n      <td>34500000</td>\n      <td>GK</td>\n      <td>GK</td>\n      <td>England</td>\n      <td>https://cdn.sofifa.net/players/233/934/23_60.png</td>\n      <td>24</td>\n      <td>...</td>\n      <td>40</td>\n      <td>45</td>\n      <td>40</td>\n      <td>35</td>\n      <td>41</td>\n      <td>35</td>\n      <td>34</td>\n      <td>33</td>\n      <td>34</td>\n      <td>83</td>\n    </tr>\n    <tr>\n      <th>322</th>\n      <td>K. Tierney</td>\n      <td>Kieran Tierney</td>\n      <td>81</td>\n      <td>85</td>\n      <td>33000000</td>\n      <td>LB</td>\n      <td>LWB</td>\n      <td>Scotland</td>\n      <td>https://cdn.sofifa.net/players/226/491/23_60.png</td>\n      <td>25</td>\n      <td>...</td>\n      <td>79</td>\n      <td>77</td>\n      <td>79</td>\n      <td>82</td>\n      <td>79</td>\n      <td>82</td>\n      <td>81</td>\n      <td>78</td>\n      <td>81</td>\n      <td>22</td>\n    </tr>\n    <tr>\n      <th>325</th>\n      <td>Gabriel</td>\n      <td>Gabriel dos S. Magalhães</td>\n      <td>81</td>\n      <td>87</td>\n      <td>37000000</td>\n      <td>CB</td>\n      <td>CB</td>\n      <td>Brazil</td>\n      <td>https://cdn.sofifa.net/players/232/580/23_60.png</td>\n      <td>24</td>\n      <td>...</td>\n      <td>61</td>\n      <td>68</td>\n      <td>61</td>\n      <td>72</td>\n      <td>78</td>\n      <td>72</td>\n      <td>75</td>\n      <td>83</td>\n      <td>75</td>\n      <td>19</td>\n    </tr>\n    <tr>\n      <th>412</th>\n      <td>W. Saliba</td>\n      <td>William Saliba</td>\n      <td>80</td>\n      <td>87</td>\n      <td>40000000</td>\n      <td>CB</td>\n      <td>CB</td>\n      <td>France</td>\n      <td>https://cdn.sofifa.net/players/243/715/23_60.png</td>\n      <td>21</td>\n      <td>...</td>\n      <td>70</td>\n      <td>72</td>\n      <td>70</td>\n      <td>78</td>\n      <td>80</td>\n      <td>78</td>\n      <td>79</td>\n      <td>82</td>\n      <td>79</td>\n      <td>19</td>\n    </tr>\n    <tr>\n      <th>416</th>\n      <td>E. Smith Rowe</td>\n      <td>Emile Smith Rowe</td>\n      <td>80</td>\n      <td>87</td>\n      <td>43000000</td>\n      <td>LM,CAM</td>\n      <td>CAM</td>\n      <td>England</td>\n      <td>https://cdn.sofifa.net/players/240/273/23_60.png</td>\n      <td>21</td>\n      <td>...</td>\n      <td>81</td>\n      <td>75</td>\n      <td>81</td>\n      <td>62</td>\n      <td>59</td>\n      <td>62</td>\n      <td>57</td>\n      <td>46</td>\n      <td>57</td>\n      <td>19</td>\n    </tr>\n    <tr>\n      <th>561</th>\n      <td>O. Zinchenko</td>\n      <td>Oleksandr Zinchenko</td>\n      <td>79</td>\n      <td>82</td>\n      <td>21500000</td>\n      <td>LB</td>\n      <td>CM</td>\n      <td>Ukraine</td>\n      <td>https://cdn.sofifa.net/players/227/813/23_60.png</td>\n      <td>25</td>\n      <td>...</td>\n      <td>79</td>\n      <td>80</td>\n      <td>79</td>\n      <td>79</td>\n      <td>80</td>\n      <td>79</td>\n      <td>79</td>\n      <td>77</td>\n      <td>79</td>\n      <td>21</td>\n    </tr>\n    <tr>\n      <th>580</th>\n      <td>B. White</td>\n      <td>Benjamin White</td>\n      <td>79</td>\n      <td>86</td>\n      <td>32500000</td>\n      <td>CB</td>\n      <td>CDM</td>\n      <td>England</td>\n      <td>https://cdn.sofifa.net/players/231/936/23_60.png</td>\n      <td>24</td>\n      <td>...</td>\n      <td>68</td>\n      <td>73</td>\n      <td>68</td>\n      <td>77</td>\n      <td>81</td>\n      <td>77</td>\n      <td>78</td>\n      <td>81</td>\n      <td>78</td>\n      <td>18</td>\n    </tr>\n    <tr>\n      <th>607</th>\n      <td>T. Tomiyasu</td>\n      <td>Takehiro Tomiyasu</td>\n      <td>79</td>\n      <td>85</td>\n      <td>26000000</td>\n      <td>RB</td>\n      <td>CB</td>\n      <td>Japan</td>\n      <td>https://cdn.sofifa.net/players/232/938/23_60.png</td>\n      <td>23</td>\n      <td>...</td>\n      <td>70</td>\n      <td>72</td>\n      <td>70</td>\n      <td>78</td>\n      <td>79</td>\n      <td>78</td>\n      <td>79</td>\n      <td>80</td>\n      <td>79</td>\n      <td>19</td>\n    </tr>\n    <tr>\n      <th>624</th>\n      <td>G. Xhaka</td>\n      <td>Granit Xhaka</td>\n      <td>79</td>\n      <td>79</td>\n      <td>15000000</td>\n      <td>CDM,CM</td>\n      <td>CDM</td>\n      <td>Switzerland</td>\n      <td>https://cdn.sofifa.net/players/199/503/23_60.png</td>\n      <td>29</td>\n      <td>...</td>\n      <td>73</td>\n      <td>79</td>\n      <td>73</td>\n      <td>74</td>\n      <td>79</td>\n      <td>74</td>\n      <td>73</td>\n      <td>74</td>\n      <td>73</td>\n      <td>19</td>\n    </tr>\n    <tr>\n      <th>686</th>\n      <td>Gabriel Martinelli</td>\n      <td>Gabriel Teodoro Martinelli Silva</td>\n      <td>78</td>\n      <td>88</td>\n      <td>31500000</td>\n      <td>LM</td>\n      <td>RM</td>\n      <td>Brazil</td>\n      <td>https://cdn.sofifa.net/players/251/566/23_60.png</td>\n      <td>21</td>\n      <td>...</td>\n      <td>79</td>\n      <td>71</td>\n      <td>79</td>\n      <td>66</td>\n      <td>61</td>\n      <td>66</td>\n      <td>64</td>\n      <td>57</td>\n      <td>64</td>\n      <td>17</td>\n    </tr>\n    <tr>\n      <th>897</th>\n      <td>M. Turner</td>\n      <td>Matt Turner</td>\n      <td>77</td>\n      <td>80</td>\n      <td>9500000</td>\n      <td>GK</td>\n      <td>GK</td>\n      <td>United States</td>\n      <td>https://cdn.sofifa.net/players/233/267/23_60.png</td>\n      <td>28</td>\n      <td>...</td>\n      <td>31</td>\n      <td>33</td>\n      <td>31</td>\n      <td>28</td>\n      <td>31</td>\n      <td>28</td>\n      <td>27</td>\n      <td>28</td>\n      <td>27</td>\n      <td>78</td>\n    </tr>\n    <tr>\n      <th>998</th>\n      <td>Fábio Vieira</td>\n      <td>Fábio Daniel Ferreira Vieira</td>\n      <td>77</td>\n      <td>87</td>\n      <td>23500000</td>\n      <td>CAM,RM</td>\n      <td>CAM</td>\n      <td>Portugal</td>\n      <td>https://cdn.sofifa.net/players/256/958/23_60.png</td>\n      <td>22</td>\n      <td>...</td>\n      <td>77</td>\n      <td>74</td>\n      <td>77</td>\n      <td>62</td>\n      <td>60</td>\n      <td>62</td>\n      <td>58</td>\n      <td>49</td>\n      <td>58</td>\n      <td>17</td>\n    </tr>\n    <tr>\n      <th>1032</th>\n      <td>R. Holding</td>\n      <td>Rob Holding</td>\n      <td>77</td>\n      <td>79</td>\n      <td>11500000</td>\n      <td>CB</td>\n      <td>CB</td>\n      <td>England</td>\n      <td>https://cdn.sofifa.net/players/228/295/23_60.png</td>\n      <td>26</td>\n      <td>...</td>\n      <td>62</td>\n      <td>67</td>\n      <td>62</td>\n      <td>71</td>\n      <td>76</td>\n      <td>71</td>\n      <td>72</td>\n      <td>79</td>\n      <td>72</td>\n      <td>22</td>\n    </tr>\n    <tr>\n      <th>1368</th>\n      <td>M. Elneny</td>\n      <td>Mohamed Elneny</td>\n      <td>76</td>\n      <td>76</td>\n      <td>6500000</td>\n      <td>CDM,CM</td>\n      <td>CDM</td>\n      <td>Egypt</td>\n      <td>https://cdn.sofifa.net/players/211/454/23_60.png</td>\n      <td>29</td>\n      <td>...</td>\n      <td>71</td>\n      <td>75</td>\n      <td>71</td>\n      <td>74</td>\n      <td>76</td>\n      <td>74</td>\n      <td>73</td>\n      <td>74</td>\n      <td>73</td>\n      <td>19</td>\n    </tr>\n    <tr>\n      <th>1643</th>\n      <td>A. Sambi Lokonga</td>\n      <td>Albert Sambi Lokonga</td>\n      <td>75</td>\n      <td>83</td>\n      <td>12500000</td>\n      <td>CM,CDM</td>\n      <td>CM</td>\n      <td>Belgium</td>\n      <td>https://cdn.sofifa.net/players/241/928/23_60.png</td>\n      <td>22</td>\n      <td>...</td>\n      <td>75</td>\n      <td>77</td>\n      <td>75</td>\n      <td>75</td>\n      <td>76</td>\n      <td>75</td>\n      <td>74</td>\n      <td>72</td>\n      <td>74</td>\n      <td>19</td>\n    </tr>\n    <tr>\n      <th>1734</th>\n      <td>Cédric</td>\n      <td>Cédric Ricardo Alves Soares</td>\n      <td>75</td>\n      <td>75</td>\n      <td>4800000</td>\n      <td>RB</td>\n      <td>RB</td>\n      <td>Portugal</td>\n      <td>https://cdn.sofifa.net/players/201/118/23_60.png</td>\n      <td>30</td>\n      <td>...</td>\n      <td>73</td>\n      <td>73</td>\n      <td>73</td>\n      <td>75</td>\n      <td>74</td>\n      <td>75</td>\n      <td>75</td>\n      <td>73</td>\n      <td>75</td>\n      <td>21</td>\n    </tr>\n    <tr>\n      <th>2415</th>\n      <td>R. Nelson</td>\n      <td>Reiss Nelson</td>\n      <td>73</td>\n      <td>80</td>\n      <td>6000000</td>\n      <td>RW,LW</td>\n      <td>RM</td>\n      <td>England</td>\n      <td>https://cdn.sofifa.net/players/231/448/23_60.png</td>\n      <td>22</td>\n      <td>...</td>\n      <td>75</td>\n      <td>68</td>\n      <td>75</td>\n      <td>62</td>\n      <td>56</td>\n      <td>62</td>\n      <td>58</td>\n      <td>47</td>\n      <td>58</td>\n      <td>20</td>\n    </tr>\n    <tr>\n      <th>2827</th>\n      <td>Marquinhos</td>\n      <td>Marcus Vincius Oliveira Alencar</td>\n      <td>73</td>\n      <td>86</td>\n      <td>7000000</td>\n      <td>RM,LM</td>\n      <td>LM</td>\n      <td>Brazil</td>\n      <td>https://cdn.sofifa.net/players/270/390/23_60.png</td>\n      <td>19</td>\n      <td>...</td>\n      <td>74</td>\n      <td>66</td>\n      <td>74</td>\n      <td>58</td>\n      <td>53</td>\n      <td>58</td>\n      <td>55</td>\n      <td>45</td>\n      <td>55</td>\n      <td>16</td>\n    </tr>\n    <tr>\n      <th>2933</th>\n      <td>E. Nketiah</td>\n      <td>Eddie Nketiah</td>\n      <td>73</td>\n      <td>80</td>\n      <td>6000000</td>\n      <td>ST</td>\n      <td>ST</td>\n      <td>England</td>\n      <td>https://cdn.sofifa.net/players/236/988/23_60.png</td>\n      <td>23</td>\n      <td>...</td>\n      <td>71</td>\n      <td>63</td>\n      <td>71</td>\n      <td>51</td>\n      <td>48</td>\n      <td>51</td>\n      <td>48</td>\n      <td>42</td>\n      <td>48</td>\n      <td>18</td>\n    </tr>\n    <tr>\n      <th>10855</th>\n      <td>M. Smith</td>\n      <td>Matthew Smith</td>\n      <td>64</td>\n      <td>74</td>\n      <td>1300000</td>\n      <td>CM,CDM</td>\n      <td>CM</td>\n      <td>England</td>\n      <td>https://cdn.sofifa.net/players/247/731/23_60.png</td>\n      <td>21</td>\n      <td>...</td>\n      <td>64</td>\n      <td>66</td>\n      <td>64</td>\n      <td>64</td>\n      <td>65</td>\n      <td>64</td>\n      <td>63</td>\n      <td>61</td>\n      <td>63</td>\n      <td>20</td>\n    </tr>\n    <tr>\n      <th>10943</th>\n      <td>K. Hein</td>\n      <td>Karl Hein</td>\n      <td>64</td>\n      <td>77</td>\n      <td>1200000</td>\n      <td>GK</td>\n      <td>GK</td>\n      <td>Estonia</td>\n      <td>https://cdn.sofifa.net/players/248/732/23_60.png</td>\n      <td>20</td>\n      <td>...</td>\n      <td>24</td>\n      <td>25</td>\n      <td>24</td>\n      <td>25</td>\n      <td>25</td>\n      <td>25</td>\n      <td>25</td>\n      <td>24</td>\n      <td>25</td>\n      <td>65</td>\n    </tr>\n    <tr>\n      <th>13288</th>\n      <td>C. Cîrjan</td>\n      <td>Cătălin Cîrjan</td>\n      <td>62</td>\n      <td>78</td>\n      <td>1000000</td>\n      <td>CM,RM</td>\n      <td>CAM</td>\n      <td>Romania</td>\n      <td>https://cdn.sofifa.net/players/260/141/23_60.png</td>\n      <td>19</td>\n      <td>...</td>\n      <td>64</td>\n      <td>64</td>\n      <td>64</td>\n      <td>55</td>\n      <td>56</td>\n      <td>55</td>\n      <td>54</td>\n      <td>49</td>\n      <td>54</td>\n      <td>19</td>\n    </tr>\n    <tr>\n      <th>14095</th>\n      <td>J. Ideho</td>\n      <td>Joel Ideho</td>\n      <td>61</td>\n      <td>78</td>\n      <td>825000</td>\n      <td>LM,RM,CF</td>\n      <td>RM</td>\n      <td>Netherlands</td>\n      <td>https://cdn.sofifa.net/players/259/403/23_60.png</td>\n      <td>18</td>\n      <td>...</td>\n      <td>62</td>\n      <td>55</td>\n      <td>62</td>\n      <td>53</td>\n      <td>46</td>\n      <td>53</td>\n      <td>51</td>\n      <td>43</td>\n      <td>51</td>\n      <td>14</td>\n    </tr>\n    <tr>\n      <th>15912</th>\n      <td>A. Cozier-Duberry</td>\n      <td>Amario Cozier-Duberry</td>\n      <td>59</td>\n      <td>78</td>\n      <td>550000</td>\n      <td>LM,CAM</td>\n      <td>LM</td>\n      <td>England</td>\n      <td>https://cdn.sofifa.net/players/271/743/23_60.png</td>\n      <td>17</td>\n      <td>...</td>\n      <td>60</td>\n      <td>53</td>\n      <td>60</td>\n      <td>48</td>\n      <td>44</td>\n      <td>48</td>\n      <td>45</td>\n      <td>39</td>\n      <td>45</td>\n      <td>17</td>\n    </tr>\n    <tr>\n      <th>16986</th>\n      <td>L. Sousa</td>\n      <td>Lino Sousa</td>\n      <td>56</td>\n      <td>80</td>\n      <td>425000</td>\n      <td>LB</td>\n      <td>LB</td>\n      <td>England</td>\n      <td>https://cdn.sofifa.net/players/271/808/23_60.png</td>\n      <td>17</td>\n      <td>...</td>\n      <td>52</td>\n      <td>48</td>\n      <td>52</td>\n      <td>56</td>\n      <td>52</td>\n      <td>56</td>\n      <td>56</td>\n      <td>56</td>\n      <td>56</td>\n      <td>17</td>\n    </tr>\n  </tbody>\n</table>\n<p>29 rows × 86 columns</p>\n</div>"
     },
     "execution_count": 64,
     "metadata": {},
     "output_type": "execute_result"
    }
   ],
   "source": [
    "getPlayersFromTeam(\"Arsenal\")"
   ],
   "metadata": {
    "collapsed": false
   }
  },
  {
   "cell_type": "code",
   "execution_count": 44,
   "outputs": [],
   "source": [
    "# SAMPLE_TEAM = {\"NAME\":\"POSITIONCODE\"}\n",
    "\n",
    "SAMPLE_TEAM_CHELSEA = {\"Édouard Mendy\":\"GK\",\n",
    "                       \"Kalidou Koulibaly\":\"CB\",\n",
    "                       \"Thiago Emiliano da Silva\":\"CB\",\n",
    "                       \"Reece James\":\"RWB\",\n",
    "                       \"Ben Chilwell\":\"LWB\",\n",
    "                       \"N'Golo Kanté\":\"CDM\",\n",
    "                       \"Luiz Frello Filho Jorge\":\"CM\",\n",
    "                       \"Mateo Kovačić\":\"CM\",\n",
    "                       \"Raheem Sterling\":\"RW\",\n",
    "                       \"Christian Pulisic\":\"LW\",\n",
    "                       \"Pierre-Emerick Aubameyang\":\"ST\"}\n",
    "\n",
    "SAMPLE_TEAM_ARSENAL = {\"Aaron Ramsdale\":\"GK\",\n",
    "                       \"Gabriel dos S. Magalhães\":\"CB\",\n",
    "                       \"William Saliba\":\"CB\",\n",
    "                       \"Takehiro Tomiyasu\":\"CB\",\n",
    "                       \"Kieran Tierney\":\"LWB\",\n",
    "                       \"Thomas Partey\":\"CDM\",\n",
    "                       \"Martin Ødegaard\":\"CAM\",\n",
    "                       \"Bukayo Saka\":\"LM\",\n",
    "                       \"Emile Smith Rowe\":\"CAM\",\n",
    "                       \"Oleksandr Zinchenko\":\"CM\",\n",
    "                       \"Gabriel Fernando de Jesus\":\"ST\"}"
   ],
   "metadata": {
    "collapsed": false
   }
  },
  {
   "cell_type": "code",
   "execution_count": 159,
   "outputs": [],
   "source": [
    "# calculatePlayerScore(player:str, role:str)\n",
    "#     Calculates Player's attack and defense scores. Player's attributes are weighted by role he is playing in. Scores are weighted by role's contribution to teams attack and defense\n",
    "#     Attributes:\n",
    "#         player:str\n",
    "#             Player's fullname\n",
    "#         role:str\n",
    "#             Position code of role\n",
    "#     Return:\n",
    "#         attack_score: total attack score of player\n",
    "#         defense_score: total defense score of player\n",
    "#         player_attributes_weighted: List of weighted attributes of player\n",
    "\n",
    "def calculatePlayerScore(player:str, role:str):\n",
    "        player_attributes = df.loc[df[\"Full Name\"]==player][FEATURE_NAMES]\n",
    "        weight = ROLE_WEIGHTS_NORM.loc[role]\n",
    "        player_attributes_weighted = player_attributes * weight\n",
    "        player_attributes_weighted = player_attributes_weighted.iloc[0].to_list()\n",
    "        player_score = np.dot(player_attributes, weight)[0]\n",
    "        role_contribution = POSITION_CONTRIBUTION.loc[role]\n",
    "        attack_score = player_score * role_contribution.loc[\"Attack\"]\n",
    "        defense_score = player_score * role_contribution.loc[\"Defense\"]\n",
    "        return attack_score, defense_score, player_attributes_weighted\n",
    "        # return player_attributes_weighted\n",
    "        # return player_attributes"
   ],
   "metadata": {
    "collapsed": false
   }
  },
  {
   "cell_type": "code",
   "execution_count": 112,
   "outputs": [
    {
     "data": {
      "text/plain": "list"
     },
     "execution_count": 112,
     "metadata": {},
     "output_type": "execute_result"
    }
   ],
   "source": [
    "type(calculatePlayerScore( \"Gabriel dos S. Magalhães\",\"CB\")[2])"
   ],
   "metadata": {
    "collapsed": false
   }
  },
  {
   "cell_type": "code",
   "execution_count": 129,
   "outputs": [],
   "source": [
    "def calculateTeamScore(team:dict):\n",
    "    team_performance = pd.DataFrame(columns=[\"Position\",\"Full Name\", \"Attack Score\", \"Defense Score\"]+FEATURE_NAMES)\n",
    "    players = team.items()\n",
    "    for player, role in players:\n",
    "        attack_indiv, defense_indiv, attributes_indiv = calculatePlayerScore(player, role)\n",
    "        team_performance.loc[len(team_performance)] = [role, player, attack_indiv, defense_indiv]+attributes_indiv\n",
    "    return team_performance"
   ],
   "metadata": {
    "collapsed": false
   }
  },
  {
   "cell_type": "code",
   "execution_count": 131,
   "outputs": [],
   "source": [
    "CHELSEA = calculateTeamScore(SAMPLE_TEAM_CHELSEA)\n",
    "ARSENAL = calculateTeamScore(SAMPLE_TEAM_ARSENAL)"
   ],
   "metadata": {
    "collapsed": false
   }
  },
  {
   "cell_type": "code",
   "execution_count": 132,
   "outputs": [],
   "source": [
    "chelsea_attack = np.sum(CHELSEA[\"Attack Score\"])\n",
    "chelsea_defense = np.sum(CHELSEA[\"Defense Score\"])\n",
    "arsenal_attack = np.sum(ARSENAL[\"Attack Score\"])\n",
    "arsenal_defense = np.sum(ARSENAL[\"Defense Score\"])"
   ],
   "metadata": {
    "collapsed": false
   }
  },
  {
   "cell_type": "code",
   "execution_count": 133,
   "outputs": [],
   "source": [
    "arsenal_lambda = arsenal_attack - chelsea_defense\n",
    "chelsea_lambda = chelsea_attack - arsenal_attack"
   ],
   "metadata": {
    "collapsed": false
   }
  },
  {
   "cell_type": "code",
   "execution_count": 134,
   "outputs": [
    {
     "data": {
      "text/plain": "-198.03788386529294"
     },
     "execution_count": 134,
     "metadata": {},
     "output_type": "execute_result"
    }
   ],
   "source": [
    "arsenal_lambda"
   ],
   "metadata": {
    "collapsed": false
   }
  },
  {
   "cell_type": "code",
   "execution_count": 135,
   "outputs": [
    {
     "data": {
      "text/plain": "30.7231588776001"
     },
     "execution_count": 135,
     "metadata": {},
     "output_type": "execute_result"
    }
   ],
   "source": [
    "chelsea_lambda"
   ],
   "metadata": {
    "collapsed": false
   }
  },
  {
   "cell_type": "code",
   "execution_count": 151,
   "outputs": [],
   "source": [
    "MAX = 400\n",
    "MIN = -400\n",
    "SCALE_FACTOR = 5\n",
    "AWAY_FACTOR = 0.95\n",
    "HOME_FACTOR = 1.05\n",
    "\n",
    "def calculateLambda(hometeam:pd.DataFrame, awayteam:pd.DataFrame):\n",
    "    home_attack = np.sum(hometeam[\"Attack Score\"]) * HOME_FACTOR\n",
    "    home_defense = np.sum(hometeam[\"Defense Score\"]) * HOME_FACTOR\n",
    "    away_attack = np.sum(awayteam[\"Attack Score\"]) * AWAY_FACTOR\n",
    "    away_defense = np.sum(awayteam[\"Defense Score\"]) * AWAY_FACTOR\n",
    "\n",
    "    home_lambda_raw = home_attack - away_defense\n",
    "    away_lambda_raw = away_attack - home_defense\n",
    "    home_lambda = (home_lambda_raw-MIN) / (MAX-MIN) * SCALE_FACTOR\n",
    "    away_lambda = (away_lambda_raw-MIN) / (MAX-MIN) * SCALE_FACTOR\n",
    "    return home_lambda, away_lambda"
   ],
   "metadata": {
    "collapsed": false
   }
  },
  {
   "cell_type": "code",
   "execution_count": 152,
   "outputs": [
    {
     "data": {
      "text/plain": "(1.7291590385448554, 0.9913609944152171)"
     },
     "execution_count": 152,
     "metadata": {},
     "output_type": "execute_result"
    }
   ],
   "source": [
    "calculateLambda(CHELSEA, ARSENAL)"
   ],
   "metadata": {
    "collapsed": false
   }
  },
  {
   "cell_type": "code",
   "execution_count": 155,
   "outputs": [
    {
     "data": {
      "text/plain": "5581"
     },
     "execution_count": 155,
     "metadata": {},
     "output_type": "execute_result"
    }
   ],
   "source": [
    "x = np.random.poisson(1.1777696411145124, 10000)\n",
    "y = np.random.poisson(0.39078506070956487, 10000)\n",
    "\n",
    "np.sum(x > y)"
   ],
   "metadata": {
    "collapsed": false
   }
  },
  {
   "cell_type": "code",
   "execution_count": 157,
   "outputs": [],
   "source": [
    "def calculateMatchOutcome(homelambda, awaylambda, iterations):\n",
    "    home_goal = poisson(homelambda, iterations)\n",
    "    away_goal = poisson(awaylambda, iterations)\n",
    "    homeWin = np.sum(home_goal > away_goal)\n",
    "    draw = np.sum(home_goal == away_goal)\n",
    "    awayWin = np.sum(away_goal > home_goal)\n",
    "    return (home_goal, away_goal), (homeWin, draw, awayWin)"
   ],
   "metadata": {
    "collapsed": false
   }
  },
  {
   "cell_type": "code",
   "execution_count": 158,
   "outputs": [
    {
     "data": {
      "text/plain": "((array([4, 3, 3, ..., 3, 0, 1]), array([0, 1, 2, ..., 0, 1, 0])),\n (10926, 4729, 4345))"
     },
     "execution_count": 158,
     "metadata": {},
     "output_type": "execute_result"
    }
   ],
   "source": [
    "calculateMatchOutcome(1.7291590385448554, 0.9913609944152171, 20000)"
   ],
   "metadata": {
    "collapsed": false
   }
  },
  {
   "cell_type": "code",
   "execution_count": null,
   "outputs": [],
   "source": [],
   "metadata": {
    "collapsed": false
   }
  }
 ],
 "metadata": {
  "kernelspec": {
   "display_name": "Python 3 (ipykernel)",
   "language": "python",
   "name": "python3"
  },
  "language_info": {
   "codemirror_mode": {
    "name": "ipython",
    "version": 3
   },
   "file_extension": ".py",
   "mimetype": "text/x-python",
   "name": "python",
   "nbconvert_exporter": "python",
   "pygments_lexer": "ipython3",
   "version": "3.11.4"
  }
 },
 "nbformat": 4,
 "nbformat_minor": 1
}
